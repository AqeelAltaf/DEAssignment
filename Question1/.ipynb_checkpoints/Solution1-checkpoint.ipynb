{
 "cells": [
  {
   "cell_type": "markdown",
   "metadata": {},
   "source": [
    "# Question 1:  <br>\n",
    "a. By referring to Question1-Material.xlsx, provide us with a normalized data model <br>\n",
    "design to minimize data redundancy. <br>\n",
    "Based on your normalized model, answer the below questions by providing us with the <br>\n",
    "respective SQL queries: <br>\n",
    "b. Which are the 10 largest completed deposit transactions? Extract the amount, customer <br>\n",
    "email, customer brand name and calendar date.<br>\n",
    "c. What is the total number and amount of failed deposit transactions per brand? Extract <br>\n",
    "total number, amount, customer brand name, paymentstatus. <br>\n",
    "d. How much daily turnover and accounting revenue did each brand generate per product  <br>\n",
    "in the first 6 days of the year? Extract turnover, accountingrevenue, brand. <br>\n",
    "e. What is the average gamewin per product? Extract the average gamewin and product. <br> \n",
    "f. Which customers had a lifetime total turnover of 500 EUR or more and what was this <br>\n",
    "total turnover amount? Extract turnover, customeremail <br>"
   ]
  },
  {
   "cell_type": "markdown",
   "metadata": {},
   "source": [
    "# Solution\n",
    "\n",
    "First let's have a look at data, we've given two tables in excel file.\n",
    "\n",
    "### Deposit Transactions\n",
    "\n",
    "CalendarDate\n",
    "<br>\n",
    "CustomerEmail\n",
    "<br>\n",
    "CustomerBrandName\n",
    "<br>\n",
    "CustomerCountry\n",
    "<br>\n",
    "CustomerAccountStatus\n",
    "<br>\n",
    "PaymentMethodName\n",
    "<br>\n",
    "PaymentMethodType\n",
    "<br>\n",
    "PaymentStatusName\n",
    "<br>\n",
    "PaymentStatusDescription\n",
    "<br>\n",
    "amount_eur\n",
    "<br>\n",
    "\n",
    "### Gamewin Transactions\n",
    "CalendarDate\n",
    "<br>\n",
    "CustomerEmail\n",
    "<br>\n",
    "CustomerBrand\n",
    "<br>\n",
    "CustomerCountry\n",
    "<br>\n",
    "CustomerStatus\n",
    "<br>\n",
    "ProviderName\n",
    "<br>\n",
    "ProviderProductName\n",
    "<br>\n",
    "DeviceName\n",
    "<br>\n",
    "rounds\n",
    "<br>\n",
    "turnover_EUR\n",
    "<br>\n",
    "gameWin_EUR\n",
    "<br>\n",
    "bonus cost\n",
    "<br>\n",
    "totalAccountingRevenue_EUR\n",
    "<br>"
   ]
  },
  {
   "cell_type": "markdown",
   "metadata": {},
   "source": [
    "We can normalize above two tables, following is ERD after normalization.\n",
    "<img src=\"./ERD.png\">"
   ]
  },
  {
   "cell_type": "markdown",
   "metadata": {},
   "source": [
    "Relational Schema of the diagram.\n",
    "<img src=\"./relational_schema.png\">"
   ]
  },
  {
   "cell_type": "markdown",
   "metadata": {},
   "source": [
    "Now as we've dumped our data in Postgres Database, Let's write and execute queries."
   ]
  },
  {
   "cell_type": "code",
   "execution_count": 22,
   "metadata": {},
   "outputs": [
    {
     "name": "stdout",
     "output_type": "stream",
     "text": [
      "   amount_eur                          email     brand  calendar_date\n",
      "0   99.954219  betsson7@testbetssongroup.com  BrandABC       20210105\n",
      "1   99.393521  betsson6@testbetssongroup.com  BrandGHI       20210101\n",
      "2   98.550624  betsson3@testbetssongroup.com  BrandABC       20210102\n",
      "3   96.542504  betsson3@testbetssongroup.com  BrandABC       20210105\n",
      "4   95.221557  betsson3@testbetssongroup.com  BrandABC       20210102\n",
      "5   93.265848   betsson@testbetssongroup.com  BrandABC       20210104\n",
      "6   92.778977   betsson@testbetssongroup.com  BrandABC       20210105\n",
      "7   89.286755   betsson@testbetssongroup.com  BrandABC       20210102\n",
      "8   88.798928  betsson4@testbetssongroup.com  BrandDEF       20210102\n",
      "9   85.767210  betsson5@testbetssongroup.com  BrandGHI       20210102\n"
     ]
    }
   ],
   "source": [
    "# b. Which are the 10 largest completed deposit transactions? \n",
    "# Extract the amount, customer email, customer brand name and calendar date.\n",
    "query = '''select amount_eur , \n",
    "email , \n",
    "brand  ,\n",
    "calendar_date  \n",
    "from deposit  left join customer on deposit.customer_id=customer.customer_id order by amount_eur desc limit 10;'''\n",
    "\n",
    "execute_query(query)"
   ]
  },
  {
   "cell_type": "code",
   "execution_count": 23,
   "metadata": {},
   "outputs": [
    {
     "name": "stdout",
     "output_type": "stream",
     "text": [
      "   amount_eur                          email     brand  calendar_date\n",
      "0   99.954219  betsson7@testbetssongroup.com  BrandABC       20210105\n",
      "1   99.393521  betsson6@testbetssongroup.com  BrandGHI       20210101\n",
      "2   98.550624  betsson3@testbetssongroup.com  BrandABC       20210102\n",
      "3   96.542504  betsson3@testbetssongroup.com  BrandABC       20210105\n",
      "4   95.221557  betsson3@testbetssongroup.com  BrandABC       20210102\n",
      "5   93.265848   betsson@testbetssongroup.com  BrandABC       20210104\n",
      "6   92.778977   betsson@testbetssongroup.com  BrandABC       20210105\n",
      "7   89.286755   betsson@testbetssongroup.com  BrandABC       20210102\n",
      "8   88.798928  betsson4@testbetssongroup.com  BrandDEF       20210102\n",
      "9   85.767210  betsson5@testbetssongroup.com  BrandGHI       20210102\n"
     ]
    }
   ],
   "source": [
    "#c. What is the total number and amount of failed deposit transactions per brand?\n",
    "# Extract  total number, amount, customer brand name, paymentstatus. \n",
    "\n",
    "\n",
    "'''select count(deposit_id),sum(d.amount_eur) ,c.brand ,'Failed'  from deposit d \n",
    "inner join payment_status ps \n",
    "on d.payment_status_id = ps.payment_status_id and  ps.name = 'Failed' \n",
    "left join customer c on d.customer_id = c.customer_id \n",
    "group by c.brand;'''\n",
    "\n",
    "\n",
    "execute_query(query)"
   ]
  },
  {
   "cell_type": "code",
   "execution_count": 36,
   "metadata": {},
   "outputs": [
    {
     "name": "stdout",
     "output_type": "stream",
     "text": [
      "   count         sum     brand ?column?\n",
      "0      3  179.531986  BrandABC   Failed\n",
      "1      3  137.549155  BrandDEF   Failed\n",
      "2      1   85.767210  BrandGHI   Failed\n"
     ]
    }
   ],
   "source": [
    "#c. What is the total number and amount of failed deposit transactions per brand?\n",
    "# Extract  total number, amount, customer brand name, paymentstatus. \n",
    "\n",
    "\n",
    "query = '''select count(deposit_id),sum(d.amount_eur) ,c.brand ,'Failed'  from deposit d \n",
    "inner join payment_status ps \n",
    "on d.payment_status_id = ps.payment_status_id and  ps.name = 'Failed' \n",
    "left join customer c on d.customer_id = c.customer_id \n",
    "group by c.brand;'''\n",
    "\n",
    "execute_query(query)\n"
   ]
  },
  {
   "cell_type": "code",
   "execution_count": 31,
   "metadata": {},
   "outputs": [
    {
     "name": "stdout",
     "output_type": "stream",
     "text": [
      "   sum_turnover  sum_accountingrevenue     brand\n",
      "0   2452.209478            -572.741053  BrandABC\n",
      "1   1526.681294            -449.071244  BrandDEF\n",
      "2   1060.926938            -335.830123  BrandGHI\n"
     ]
    }
   ],
   "source": [
    "# d. How much daily turnover and accounting revenue did each brand generate per product in the first 6 days of the year?\n",
    "# Extract turnover, accountingrevenue, brand. \n",
    "\n",
    "query = '''select sum(g.turnover_eur) as sum_turnover , sum(gamewin_eur)  + sum(g.bonus_cost) as sum_accountingrevenue,c.brand \n",
    "from gameplay g \n",
    "inner join customer c on g.customer_id = c.customer_id and g.calendar_date <= 20210106 \n",
    "group by c.brand ;'''\n",
    "\n",
    "execute_query(query)"
   ]
  },
  {
   "cell_type": "code",
   "execution_count": 32,
   "metadata": {},
   "outputs": [
    {
     "name": "stdout",
     "output_type": "stream",
     "text": [
      "         avg     product_name\n",
      "0 -42.303916             None\n",
      "1  -6.182484  Games of Chance\n",
      "2  -1.308644            Poker\n",
      "3  -5.562201       Sportsbook\n"
     ]
    }
   ],
   "source": [
    "# e. What is the average gamewin per product? Extract the average gamewin and product. \n",
    "query = '''select AVG(g.gamewin_eur),  p.product_name from gameplay g \n",
    "left join provider p on g.provider_id = p.provider_id \n",
    "group by p.product_name;  '''\n",
    "\n",
    "execute_query(query)"
   ]
  },
  {
   "cell_type": "code",
   "execution_count": 33,
   "metadata": {},
   "outputs": [
    {
     "name": "stdout",
     "output_type": "stream",
     "text": [
      "          sum                          email\n",
      "0  567.746808  betsson4@testbetssongroup.com\n",
      "1  563.241676  betsson7@testbetssongroup.com\n",
      "2  711.688935  betsson3@testbetssongroup.com\n",
      "3  906.865703   betsson@testbetssongroup.com\n",
      "4  545.195125  betsson6@testbetssongroup.com\n",
      "5  958.934486  betsson2@testbetssongroup.com\n",
      "6  515.731814  betsson5@testbetssongroup.com\n"
     ]
    }
   ],
   "source": [
    "# f. Which customers had a lifetime total turnover of 500 EUR or more and what was this total turnover amount?\n",
    "# Extract turnover, customeremail, customer \n",
    "\n",
    "query = '''select sum(g.turnover_eur), c.email  from gameplay g \n",
    "left join customer c on g.customer_id = c.customer_id \n",
    "group by c.email having sum(g.turnover_eur) >=500 ;'''\n",
    "\n",
    "execute_query(query)"
   ]
  }
 ],
 "metadata": {
  "kernelspec": {
   "display_name": "Python 3",
   "language": "python",
   "name": "python3"
  },
  "language_info": {
   "codemirror_mode": {
    "name": "ipython",
    "version": 3
   },
   "file_extension": ".py",
   "mimetype": "text/x-python",
   "name": "python",
   "nbconvert_exporter": "python",
   "pygments_lexer": "ipython3",
   "version": "3.7.6"
  }
 },
 "nbformat": 4,
 "nbformat_minor": 4
}
